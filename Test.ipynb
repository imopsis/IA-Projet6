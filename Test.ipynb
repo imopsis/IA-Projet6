{
 "cells": [
  {
   "cell_type": "code",
   "execution_count": 3,
   "metadata": {},
   "outputs": [
    {
     "name": "stdout",
     "output_type": "stream",
     "text": [
      "200 photos par classe déplacées avec succès.\n"
     ]
    }
   ],
   "source": [
    "import os\n",
    "import shutil\n",
    "import pandas as pd\n",
    "import numpy as np\n",
    "\n",
    "# Charger le DataFrame avec les informations sur les photos\n",
    "\n",
    "df_photos = pd.read_json('C:/Users/david/Dropbox/Openclassrooms/IA/Projet 6/Photos/photos.json', lines=True)\n",
    "# Définir les répertoires\n",
    "base_dir = r'C:/Users/david/Dropbox/Openclassrooms/IA/Projet 6/Photos/photos'\n",
    "train_dir = os.path.join(base_dir, 'train')\n",
    "validation_dir = os.path.join(base_dir, 'validation')\n",
    "\n",
    "# Créer les répertoires de base s'ils n'existent pas\n",
    "os.makedirs(train_dir, exist_ok=True)\n",
    "os.makedirs(validation_dir, exist_ok=True)\n",
    "\n",
    "# Itérer sur chaque label unique pour créer les sous-dossiers (food, outside, inside, etc.)\n",
    "for label in df_photos['label'].unique():\n",
    "    os.makedirs(os.path.join(train_dir, label), exist_ok=True)\n",
    "    os.makedirs(os.path.join(validation_dir, label), exist_ok=True)\n",
    "\n",
    "# Mélanger les données\n",
    "df_photos_shuffled = df_photos.sample(frac=1, random_state=42).reset_index(drop=True)\n",
    "\n",
    "# Fonction pour sélectionner 200 images par classe\n",
    "def select_limited_images_per_class(df, limit=200):\n",
    "    limited_df = df.groupby('label').apply(lambda x: x.sample(n=min(len(x), limit), random_state=42)).reset_index(drop=True)\n",
    "    return limited_df\n",
    "\n",
    "# Séparer en 80% Train et 20% Validation\n",
    "train_split = int(0.8 * len(df_photos_shuffled))\n",
    "df_train = df_photos_shuffled[:train_split]\n",
    "df_validation = df_photos_shuffled[train_split:]\n",
    "\n",
    "# Limiter à 200 images par classe\n",
    "df_train_limited = select_limited_images_per_class(df_train, limit=200)\n",
    "df_validation_limited = select_limited_images_per_class(df_validation, limit=200)\n",
    "\n",
    "# Fonction pour déplacer les fichiers\n",
    "def move_photos(df, destination_dir):\n",
    "    for _, row in df.iterrows():\n",
    "        photo_id = row['photo_id'] + '.jpg'  # Ajouter l'extension .jpg au photo_id\n",
    "        label = row['label']\n",
    "        \n",
    "        # Chemin source\n",
    "        source_path = os.path.join(base_dir, photo_id)\n",
    "        \n",
    "        # Chemin de destination basé sur le label (classe)\n",
    "        dest_path = os.path.join(destination_dir, label, photo_id)\n",
    "        \n",
    "        # Déplacer la photo\n",
    "        if os.path.exists(source_path):  # Vérifier que le fichier existe bien\n",
    "            shutil.move(source_path, dest_path)\n",
    "        else:\n",
    "            print(f\"File {source_path} not found.\")\n",
    "\n",
    "# Déplacer les photos vers le répertoire Train\n",
    "move_photos(df_train_limited, train_dir)\n",
    "\n",
    "# Déplacer les photos vers le répertoire Validation\n",
    "move_photos(df_validation_limited, validation_dir)\n",
    "\n",
    "print(\"200 photos par classe déplacées avec succès.\")\n"
   ]
  }
 ],
 "metadata": {
  "kernelspec": {
   "display_name": "Python 3",
   "language": "python",
   "name": "python3"
  },
  "language_info": {
   "codemirror_mode": {
    "name": "ipython",
    "version": 3
   },
   "file_extension": ".py",
   "mimetype": "text/x-python",
   "name": "python",
   "nbconvert_exporter": "python",
   "pygments_lexer": "ipython3",
   "version": "3.12.0"
  }
 },
 "nbformat": 4,
 "nbformat_minor": 2
}
